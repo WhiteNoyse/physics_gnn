{
 "cells": [
  {
   "cell_type": "code",
   "execution_count": 1,
   "metadata": {
    "collapsed": true
   },
   "outputs": [],
   "source": [
    "import pickle\n",
    "import numpy as np\n",
    "import h5py\n",
    "\n",
    "import matplotlib.pyplot as plt\n",
    "%matplotlib inline"
   ]
  },
  {
   "cell_type": "markdown",
   "metadata": {},
   "source": [
    "---"
   ]
  },
  {
   "cell_type": "code",
   "execution_count": 29,
   "metadata": {
    "collapsed": true
   },
   "outputs": [],
   "source": [
    "prefix = \"antikt-kt-test\"\n",
    "\n",
    "data = pickle.load(open(\"data/%s.pickle\" % prefix, \"rb\"), encoding=\"latin1\")\n",
    "X, y = data"
   ]
  },
  {
   "cell_type": "code",
   "execution_count": 30,
   "metadata": {
    "collapsed": true
   },
   "outputs": [],
   "source": [
    "def convert(jet):\n",
    "    constituents = jet[\"content\"][jet[\"tree\"][:, 0] == -1]\n",
    "    content = np.zeros((len(constituents), 9))\n",
    "    \n",
    "    for i in range(len(constituents)):\n",
    "        px = constituents[i, 0]\n",
    "        py = constituents[i, 1]\n",
    "        pz = constituents[i, 2]\n",
    "        E = constituents[i, 3]\n",
    "\n",
    "        p = (constituents[i, 0:3] ** 2).sum() ** 0.5\n",
    "        eta = 0.5 * (np.log(p + pz) - np.log(p - pz))\n",
    "        theta = 2 * np.arctan(np.exp(-eta))\n",
    "        pt = p / np.cosh(eta)\n",
    "        phi = np.arctan2(py, px)\n",
    "\n",
    "        content[i, 0] = p\n",
    "        content[i, 1] = eta if np.isfinite(eta) else 0.0\n",
    "        content[i, 2] = phi\n",
    "        content[i, 3] = E\n",
    "        content[i, 4] = pt if np.isfinite(pt) else 0.0\n",
    "        content[i, 5] = theta if np.isfinite(theta) else 0.0\n",
    "        content[i, 6] = px\n",
    "        content[i, 7] = py\n",
    "        content[i, 8] = pz\n",
    "        \n",
    "    return content"
   ]
  },
  {
   "cell_type": "code",
   "execution_count": 31,
   "metadata": {},
   "outputs": [],
   "source": [
    "h5file = h5py.File(\"%s.h5\" % prefix, mode=\"w\")\n",
    "\n",
    "for i, jet in enumerate(X):\n",
    "    content = convert(jet)\n",
    "    g = h5file.create_group(\"event_%d\" % i)\n",
    "    g.create_dataset(\"p\", data=content[:, 0])\n",
    "    g.create_dataset(\"eta\", data=content[:, 1])\n",
    "    g.create_dataset(\"phi\", data=content[:, 2])\n",
    "    g.create_dataset(\"E\", data=content[:, 3])\n",
    "    g.create_dataset(\"pt\", data=content[:, 4])\n",
    "    g.create_dataset(\"theta\", data=content[:, 5])\n",
    "    g.create_dataset(\"px\", data=content[:, 6])\n",
    "    g.create_dataset(\"py\", data=content[:, 7])\n",
    "    g.create_dataset(\"pz\", data=content[:, 8])\n",
    "    g.create_dataset(\"weight\", data=1.0)\n",
    "    \n",
    "    g.attrs[\"jet_phi\"] = jet[\"phi\"]\n",
    "    g.attrs[\"jet_pt\"] = jet[\"pt\"]\n",
    "    g.attrs[\"jet_energy\"] = jet[\"energy\"]\n",
    "    g.attrs[\"jet_eta\"] = jet[\"eta\"]\n",
    "    g.attrs[\"jet_mass\"] = jet[\"mass\"]\n",
    "    g.attrs[\"jet_length\"] = len(content)\n",
    "    g.attrs[\"label\"] = y[i]\n",
    "\n",
    "h5file.close()"
   ]
  },
  {
   "cell_type": "markdown",
   "metadata": {},
   "source": [
    "---"
   ]
  },
  {
   "cell_type": "code",
   "execution_count": 4,
   "metadata": {
    "collapsed": true
   },
   "outputs": [],
   "source": [
    "X, y = pickle.load(open(\"data/antikt-kt-train-gcnn.pickle\", \"rb\"), encoding='latin1')"
   ]
  },
  {
   "cell_type": "code",
   "execution_count": 5,
   "metadata": {
    "collapsed": true
   },
   "outputs": [],
   "source": [
    "def distances(jet, R=1.0, alpha=1.0):\n",
    "    d = []\n",
    "    for i in range(len(jet)):\n",
    "        for j in range(i + 1, len(jet)):\n",
    "            d_ij = min(jet[i, 4] ** (2 * alpha),\n",
    "                       jet[j, 4] ** (2 * alpha))\n",
    "            d_ij *= (jet[i, 1] - jet[j, 1]) ** 2 + (jet[i, 2] - jet[j, 2]) ** 2\n",
    "            d_ij /= R\n",
    "            d.append(d_ij)\n",
    "    return np.array(d)\n",
    "\n",
    "def weights(jet, beta=1.0):\n",
    "    d_ij = distances(jet)\n",
    "    dmin = np.min(d_ij)\n",
    "    w_ij = np.exp(-beta * (d_ij - dmin) / dmin)\n",
    "    return w_ij"
   ]
  },
  {
   "cell_type": "code",
   "execution_count": 6,
   "metadata": {},
   "outputs": [
    {
     "data": {
      "image/png": "[encoded data removed]",
      "text/plain": [
       "<matplotlib.figure.Figure at 0x7f67cb941320>"
      ]
     },
     "metadata": {},
     "output_type": "display_data"
    }
   ],
   "source": [
    "d = []\n",
    "for i in range(5000):\n",
    "    d.extend(distances(X[i]))\n",
    "\n",
    "plt.hist(d, range=(0, 1.0), bins=100)\n",
    "plt.yscale(\"log\")\n",
    "plt.xlabel(r\"$d_{ij}^{\\alpha}$\")\n",
    "plt.show()"
   ]
  },
  {
   "cell_type": "code",
   "execution_count": 15,
   "metadata": {
    "collapsed": true
   },
   "outputs": [],
   "source": [
    "d = []\n",
    "for i in range(len(X)):\n",
    "    d.append(np.min(distances(X[i])))"
   ]
  },
  {
   "cell_type": "code",
   "execution_count": 16,
   "metadata": {},
   "outputs": [
    {
     "data": {
      "image/png": "[encoded data removed]",
      "text/plain": [
       "<matplotlib.figure.Figure at 0x7f67cd4150f0>"
      ]
     },
     "metadata": {},
     "output_type": "display_data"
    }
   ],
   "source": [
    "plt.hist(d, bins=100, range=(0, 0.005))\n",
    "plt.yscale(\"log\")\n",
    "plt.xlabel(r\"$min(d_{ij}^{\\alpha})$\")\n",
    "plt.show()"
   ]
  },
  {
   "cell_type": "code",
   "execution_count": 51,
   "metadata": {},
   "outputs": [
    {
     "data": {
      "image/png": "[encoded data removed]",
      "text/plain": [
       "<matplotlib.figure.Figure at 0x7f0f45d39710>"
      ]
     },
     "metadata": {},
     "output_type": "display_data"
    }
   ],
   "source": [
    "w = []\n",
    "for i in range(5000):\n",
    "    w.extend(weights(X[i]))\n",
    "    \n",
    "plt.hist(w, bins=100)\n",
    "plt.yscale(\"log\")\n",
    "plt.xlabel(r\"$w_{ij}$\")\n",
    "plt.show()"
   ]
  }
 ],
 "metadata": {
  "kernelspec": {
   "display_name": "Python 3",
   "language": "python",
   "name": "python3"
  },
  "language_info": {
   "codemirror_mode": {
    "name": "ipython",
    "version": 3
   },
   "file_extension": ".py",
   "mimetype": "text/x-python",
   "name": "python",
   "nbconvert_exporter": "python",
   "pygments_lexer": "ipython3",
   "version": "3.6.1"
  }
 },
 "nbformat": 4,
 "nbformat_minor": 2
}
